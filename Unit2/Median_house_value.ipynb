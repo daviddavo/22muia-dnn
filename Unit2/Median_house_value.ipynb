{
 "cells": [
  {
   "cell_type": "markdown",
   "metadata": {
    "cell_id": "a89ace749e224e408511694c2e341ca1",
    "deepnote_cell_type": "markdown",
    "id": "x0uJW5xqqqlm"
   },
   "source": [
    "# Machine learning program \"Median House Value\"\n"
   ]
  },
  {
   "cell_type": "code",
   "execution_count": 1,
   "metadata": {
    "cell_id": "696862a4fd6a4df8bda64fe8f039e6bc",
    "colab": {
     "base_uri": "https://localhost:8080/"
    },
    "deepnote_cell_type": "code",
    "deepnote_to_be_reexecuted": false,
    "execution_millis": 3147,
    "execution_start": 1666340210453,
    "id": "V4Dwpm86q2jO",
    "outputId": "99ee1ebd-f778-4a69-d940-1805fbb6f86c",
    "source_hash": "e3768d41"
   },
   "outputs": [
    {
     "name": "stderr",
     "output_type": "stream",
     "text": [
      "2022-10-21 10:50:59.720448: I tensorflow/core/platform/cpu_feature_guard.cc:193] This TensorFlow binary is optimized with oneAPI Deep Neural Network Library (oneDNN) to use the following CPU instructions in performance-critical operations:  SSE3 SSE4.1 SSE4.2 AVX AVX2 AVX512F AVX512_VNNI FMA\n",
      "To enable them in other operations, rebuild TensorFlow with the appropriate compiler flags.\n"
     ]
    },
    {
     "name": "stdout",
     "output_type": "stream",
     "text": [
      "Tensorflow version: 2.10.0\n"
     ]
    }
   ],
   "source": [
    "import tensorflow as tf\n",
    "from tensorflow import keras\n",
    "import pandas as pd\n",
    "import matplotlib.pyplot as plt\n",
    "import time\n",
    "import numpy as np\n",
    "import tqdm\n",
    "\n",
    "print(\"Tensorflow version: \"+tf.__version__)"
   ]
  },
  {
   "cell_type": "markdown",
   "metadata": {
    "cell_id": "f93a5aa528d249ec9788e2c26c83f3bf",
    "deepnote_cell_type": "markdown",
    "id": "zCo-PcwtxCbO"
   },
   "source": [
    "## Datasets"
   ]
  },
  {
   "cell_type": "code",
   "execution_count": 2,
   "metadata": {
    "cell_id": "6c6293d24d23427095ea0db932ae1e64",
    "colab": {
     "base_uri": "https://localhost:8080/"
    },
    "deepnote_cell_type": "code",
    "deepnote_to_be_reexecuted": false,
    "execution_millis": 59,
    "execution_start": 1666340213608,
    "id": "-SAQX4N2qqls",
    "outputId": "cfac5fb7-4d9e-486d-f233-fad977a5603b",
    "source_hash": "d7e8cc3a"
   },
   "outputs": [],
   "source": [
    "try:\n",
    "    # Google file system\n",
    "    from google.colab import drive\n",
    "    drive.mount('/GoogleDrive', force_remount=True)\n",
    "\n",
    "    ATT_FILE =   \"/GoogleDrive/My Drive/Colab Notebooks/Datasets/MedianHouseValuePreparedCleanAttributes.csv\"\n",
    "    LABEL_FILE = \"/GoogleDrive/My Drive/Colab Notebooks/Datasets/MedianHouseValueOneHotEncodedClasses.csv\"\n",
    "except ImportError:\n",
    "    ATT_FILE = \"MedianHouseValuePreparedCleanAttributes.csv\"\n",
    "    LABEL_FILE = \"MedianHouseValueOneHotEncodedClasses.csv\"\n",
    "\n",
    "attributes = pd.read_csv(ATT_FILE)\n",
    "label =      pd.read_csv(LABEL_FILE)"
   ]
  },
  {
   "cell_type": "code",
   "execution_count": 3,
   "metadata": {
    "cell_id": "d236596e91824b3eb7aa05e8ed22dcf5",
    "colab": {
     "base_uri": "https://localhost:8080/"
    },
    "deepnote_cell_type": "code",
    "deepnote_to_be_reexecuted": false,
    "execution_millis": 3,
    "execution_start": 1666340213677,
    "id": "xfEOrwcr-ft8",
    "outputId": "c479424b-80a0-4b53-f312-dd0f581a4f96",
    "source_hash": "22277e05"
   },
   "outputs": [
    {
     "name": "stdout",
     "output_type": "stream",
     "text": [
      "Number of training examples:  16342\n",
      "Number of examples for development test:  2043\n"
     ]
    }
   ],
   "source": [
    "TRAIN_RATIO = 0.8\n",
    "\n",
    "n_instances = attributes.shape[0]\n",
    "n_train = int(n_instances*TRAIN_RATIO)\n",
    "n_dev = int((n_instances - n_train)/2)\n",
    "\n",
    "x_train = attributes.values[:n_train]\n",
    "t_train = label.values[:n_train]\n",
    "x_dev =   attributes.values[n_train:n_train + n_dev]\n",
    "t_dev =   label.values[n_train:n_train + n_dev]\n",
    "\n",
    "INPUTS =  x_train.shape[1]\n",
    "OUTPUTS = t_train.shape[1]\n",
    "\n",
    "NUM_TRAINING_EXAMPLES = int(round(x_train.shape[0]/1))\n",
    "NUM_DEV_EXAMPLES =      int(round(x_dev.shape[0]/1))\n",
    "\n",
    "print (\"Number of training examples: \", NUM_TRAINING_EXAMPLES)\n",
    "print (\"Number of examples for development test: \", NUM_DEV_EXAMPLES)"
   ]
  },
  {
   "cell_type": "markdown",
   "metadata": {
    "cell_id": "aa69c77673bd4aaebe914d3b07dad6f8",
    "deepnote_cell_type": "markdown",
    "id": "hisRDds_kfFb"
   },
   "source": [
    "## Model\n"
   ]
  },
  {
   "cell_type": "code",
   "execution_count": 4,
   "metadata": {
    "cell_id": "5146020798124890b106e91c6f684a82",
    "deepnote_cell_type": "code",
    "deepnote_to_be_reexecuted": false,
    "execution_millis": 0,
    "execution_start": 1666340213723,
    "id": "9llGmGvkqqmM",
    "source_hash": "f3dd1e94"
   },
   "outputs": [],
   "source": [
    "n_neurons_per_hidden_layer = [500, 250, 75, 25]\n",
    "learning_rate = 0.1"
   ]
  },
  {
   "cell_type": "code",
   "execution_count": 5,
   "metadata": {
    "cell_id": "91a824d0a0454f44b545fdd163a112b1",
    "deepnote_cell_type": "code",
    "deepnote_to_be_reexecuted": false,
    "execution_millis": 80,
    "execution_start": 1666340213767,
    "id": "_HC6q86_IzO7",
    "source_hash": "329d1c66"
   },
   "outputs": [
    {
     "name": "stderr",
     "output_type": "stream",
     "text": [
      "2022-10-21 10:51:01.458947: I tensorflow/core/platform/cpu_feature_guard.cc:193] This TensorFlow binary is optimized with oneAPI Deep Neural Network Library (oneDNN) to use the following CPU instructions in performance-critical operations:  SSE3 SSE4.1 SSE4.2 AVX AVX2 AVX512F AVX512_VNNI FMA\n",
      "To enable them in other operations, rebuild TensorFlow with the appropriate compiler flags.\n",
      "2022-10-21 10:51:01.459561: I tensorflow/core/common_runtime/process_util.cc:146] Creating new thread pool with default inter op setting: 2. Tune using inter_op_parallelism_threads for best performance.\n"
     ]
    }
   ],
   "source": [
    "model = keras.Sequential(name=\"my_model\")\n",
    "\n",
    "model.add(keras.layers.InputLayer(input_shape=(INPUTS,)))\n",
    "for neurons in n_neurons_per_hidden_layer:\n",
    "  model.add(keras.layers.Dense(neurons, activation=\"relu\"))\n",
    "model.add(keras.layers.Dense(OUTPUTS, activation=\"softmax\"))"
   ]
  },
  {
   "cell_type": "code",
   "execution_count": 6,
   "metadata": {
    "cell_id": "4e1a9709547b43e9b74ddfa2b323c303",
    "deepnote_cell_type": "code",
    "deepnote_to_be_reexecuted": false,
    "execution_millis": 13,
    "execution_start": 1666340213849,
    "id": "XisSOCL1UDh8",
    "source_hash": "178bae25"
   },
   "outputs": [],
   "source": [
    "model.compile(loss=tf.keras.losses.categorical_crossentropy,\n",
    "              optimizer=tf.keras.optimizers.SGD(learning_rate=learning_rate),\n",
    "              metrics=[\"categorical_accuracy\"])\n"
   ]
  },
  {
   "cell_type": "markdown",
   "metadata": {
    "cell_id": "50adc3a19a4b4e18891f58c06df12f92",
    "deepnote_cell_type": "markdown",
    "id": "oQZsDnk8bCa8"
   },
   "source": [
    "## Training"
   ]
  },
  {
   "cell_type": "code",
   "execution_count": 7,
   "metadata": {
    "cell_id": "657660e1f3dd4dcb8d3eb586d707bd85",
    "deepnote_cell_type": "code",
    "deepnote_to_be_reexecuted": false,
    "execution_millis": 2,
    "execution_start": 1666340457674,
    "id": "7xiouC6pbG0m",
    "source_hash": "5033f239"
   },
   "outputs": [],
   "source": [
    "n_epochs = 1000\n",
    "batch_size = 512"
   ]
  },
  {
   "cell_type": "code",
   "execution_count": 8,
   "metadata": {
    "cell_id": "21ae0612a0c24569b36e9ab1a5019fcc",
    "deepnote_cell_type": "code",
    "deepnote_to_be_reexecuted": false,
    "execution_millis": 0,
    "execution_start": 1666340213920,
    "source_hash": "65448d3e",
    "tags": []
   },
   "outputs": [],
   "source": [
    "from tqdm.keras import TqdmCallback\n",
    "\n",
    "class RecordTime(TqdmCallback):\n",
    "    def __init__(self):\n",
    "        super().__init__()\n",
    "        self.start_time = None\n",
    "        self.end_time = None\n",
    "\n",
    "    @property\n",
    "    def total_time(self):\n",
    "        return self.end_time - self.start_time\n",
    "\n",
    "    @property\n",
    "    def total_time_str(self):\n",
    "        s = round(self.total_time)\n",
    "\n",
    "        m, s = divmod(s, 60)\n",
    "        h, m = divmod(m, 60)\n",
    "\n",
    "        return f'{h:d}h {m:d}m {s:d}s'\n",
    "\n",
    "    def on_train_begin(self, *args):\n",
    "        super().on_train_begin(*args)\n",
    "        self.start_time = time.perf_counter()\n",
    "    \n",
    "    def on_train_end(self, *args):\n",
    "        self.end_time = time.perf_counter()\n",
    "        super().on_train_begin(*args)\n",
    "        print(f\"Train took {self.total_time_str}\")\n"
   ]
  },
  {
   "cell_type": "code",
   "execution_count": null,
   "metadata": {
    "cell_id": "f2ea8dad62a04099928b18c8c25d8984",
    "deepnote_cell_type": "code",
    "deepnote_to_be_reexecuted": false,
    "execution_millis": 71148,
    "execution_start": 1666340461879,
    "id": "2Z79Zz4Owszp",
    "source_hash": "3b402468"
   },
   "outputs": [
    {
     "data": {
      "application/json": {
       "ascii": false,
       "bar_format": null,
       "colour": null,
       "elapsed": 0.020249605178833008,
       "initial": 0,
       "n": 0,
       "ncols": null,
       "nrows": 28,
       "postfix": null,
       "prefix": "",
       "rate": null,
       "total": null,
       "unit": "epoch",
       "unit_divisor": 1000,
       "unit_scale": false
      },
      "application/vnd.jupyter.widget-view+json": {
       "model_id": "ee8643b7e0cf45a98e6780a3dba03c57",
       "version_major": 2,
       "version_minor": 0
      },
      "text/plain": [
       "0epoch [00:00, ?epoch/s]"
      ]
     },
     "metadata": {},
     "output_type": "display_data"
    },
    {
     "data": {
      "application/json": {
       "ascii": false,
       "bar_format": null,
       "colour": null,
       "elapsed": 0.017287492752075195,
       "initial": 0,
       "n": 0,
       "ncols": null,
       "nrows": 28,
       "postfix": null,
       "prefix": "",
       "rate": null,
       "total": null,
       "unit": "batch",
       "unit_divisor": 1000,
       "unit_scale": false
      },
      "application/vnd.jupyter.widget-view+json": {
       "model_id": "9eba363073914da480840595b61a3f0a",
       "version_major": 2,
       "version_minor": 0
      },
      "text/plain": [
       "0batch [00:00, ?batch/s]"
      ]
     },
     "metadata": {},
     "output_type": "display_data"
    }
   ],
   "source": [
    "rt = RecordTime()\n",
    "\n",
    "history = model.fit(x_train, t_train, \n",
    "                    batch_size = batch_size, \n",
    "                    epochs=n_epochs, \n",
    "                    verbose = 0, \n",
    "                    validation_data = (x_dev, t_dev),\n",
    "                    callbacks=[rt]\n",
    "                    )"
   ]
  },
  {
   "cell_type": "markdown",
   "metadata": {
    "cell_id": "8670c0f8fb634eeb9fafed64c49da4bb",
    "deepnote_cell_type": "markdown",
    "id": "JFjtHnWH8-99"
   },
   "source": [
    "## Results"
   ]
  },
  {
   "cell_type": "code",
   "execution_count": null,
   "metadata": {
    "cell_id": "c0bc0765b6b24211aa595508b29def90",
    "colab": {
     "base_uri": "https://localhost:8080/",
     "height": 338
    },
    "deepnote_cell_type": "code",
    "deepnote_to_be_reexecuted": false,
    "execution_millis": 301,
    "execution_start": 1666340228967,
    "id": "ei8jQFBcgqQ1",
    "outputId": "7e52a0d8-1d55-498d-c9ac-cf74bcd8fb1e",
    "source_hash": "d3ee9589"
   },
   "outputs": [],
   "source": [
    "results = pd.DataFrame(history.history)\n",
    "results.plot(figsize = (8, 5))\n",
    "plt.grid(True)\n",
    "plt.xlabel (\"Epochs\")\n",
    "plt.ylabel (\"Accuracy - Mean Log Loss\")\n",
    "plt.gca().set_ylim(0, 1) # set the vertical range to [0,1]\n",
    "plt.show()"
   ]
  },
  {
   "cell_type": "markdown",
   "metadata": {
    "cell_id": "3e9dbed0db9f415dbf052fb436c01991",
    "deepnote_cell_type": "markdown",
    "tags": []
   },
   "source": [
    "### Exercise 1.\n",
    "\n",
    "Determine the following values: train error, test error (using dev set), bias, variance and training time. Repeat the execution at least\n",
    "three times. Consider 5% as Bayesian error (human error)."
   ]
  },
  {
   "cell_type": "code",
   "execution_count": null,
   "metadata": {
    "cell_id": "124e69c13b6e46bdb58be6c29b139943",
    "deepnote_cell_type": "code",
    "deepnote_to_be_reexecuted": false,
    "execution_millis": 4,
    "execution_start": 1666340229271,
    "source_hash": "220e994",
    "tags": []
   },
   "outputs": [],
   "source": [
    "human_error = 0.05\n",
    "training_error = 1 - results.categorical_accuracy.values[-1]\n",
    "test_error = 1 - results.val_categorical_accuracy.values[-1]\n",
    "\n",
    "print(f\"Error (human): {human_error*100:.0f}%\")\n",
    "print(f\"Error (training): {training_error*100:.2f}%\")\n",
    "print(f\"Error (test): {test_error*100:.2f}%\")\n",
    "print(f\"Bias: {(training_error - human_error)*100:.2f}%\")\n",
    "print(f\"Variance: {(training_error - test_error)*100:.2f}%\")\n",
    "print(\"Total time:\", rt.total_time_str)"
   ]
  },
  {
   "cell_type": "code",
   "execution_count": null,
   "metadata": {
    "cell_id": "b41bfed792e04d3da11267d53c6bb426",
    "deepnote_cell_type": "code",
    "deepnote_to_be_reexecuted": false,
    "execution_millis": 2,
    "execution_start": 1666340229275,
    "source_hash": "b623e53d",
    "tags": []
   },
   "outputs": [],
   "source": []
  },
  {
   "cell_type": "markdown",
   "metadata": {
    "created_in_deepnote_cell": true,
    "deepnote_cell_type": "markdown",
    "tags": []
   },
   "source": [
    "<a style='text-decoration:none;line-height:16px;display:flex;color:#5B5B62;padding:10px;justify-content:end;' href='https://deepnote.com?utm_source=created-in-deepnote-cell&projectId=4f17627b-1a01-413e-b5c6-316bf312de2c' target=\"_blank\">\n",
    "<img alt='Created in deepnote.com' style='display:inline;max-height:16px;margin:0px;margin-right:7.5px;' src='data:image/svg+xml;base64,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' > </img>\n",
    "Created in <span style='font-weight:600;margin-left:4px;'>Deepnote</span></a>"
   ]
  }
 ],
 "metadata": {
  "accelerator": "GPU",
  "colab": {
   "collapsed_sections": [],
   "name": "Median_house_value.ipynb",
   "provenance": []
  },
  "deepnote": {},
  "deepnote_execution_queue": [],
  "deepnote_notebook_id": "deaa26316d8a4b9b87502ce0fa0ead14",
  "kernelspec": {
   "display_name": "Python 3 (ipykernel)",
   "language": "python",
   "name": "python3"
  },
  "language_info": {
   "codemirror_mode": {
    "name": "ipython",
    "version": 3
   },
   "file_extension": ".py",
   "mimetype": "text/x-python",
   "name": "python",
   "nbconvert_exporter": "python",
   "pygments_lexer": "ipython3",
   "version": "3.10.7"
  }
 },
 "nbformat": 4,
 "nbformat_minor": 4
}
